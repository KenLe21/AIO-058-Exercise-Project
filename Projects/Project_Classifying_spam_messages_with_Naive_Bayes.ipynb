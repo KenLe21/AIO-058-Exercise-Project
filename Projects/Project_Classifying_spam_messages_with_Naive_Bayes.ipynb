{
  "nbformat": 4,
  "nbformat_minor": 0,
  "metadata": {
    "colab": {
      "provenance": []
    },
    "kernelspec": {
      "name": "python3",
      "display_name": "Python 3"
    },
    "language_info": {
      "name": "python"
    }
  },
  "cells": [
    {
      "cell_type": "code",
      "source": [
        "! gdown --id 1N7rk - kfnDFIGMeX0ROVTjKh71gcgx -7R"
      ],
      "metadata": {
        "id": "qwioxEXdncEh",
        "colab": {
          "base_uri": "https://localhost:8080/"
        },
        "outputId": "fc889578-81d7-42d2-8c2e-d9e9bba53c0b"
      },
      "execution_count": 1,
      "outputs": [
        {
          "output_type": "stream",
          "name": "stdout",
          "text": [
            "usage: gdown [-h] [-V] [-O OUTPUT] [-q] [--fuzzy] [--id] [--proxy PROXY] [--speed SPEED]\n",
            "             [--no-cookies] [--no-check-certificate] [--continue] [--folder] [--remaining-ok]\n",
            "             [--format FORMAT] [--user-agent USER_AGENT]\n",
            "             url_or_id\n",
            "gdown: error: unrecognized arguments: - kfnDFIGMeX0ROVTjKh71gcgx -7R\n"
          ]
        }
      ]
    },
    {
      "cell_type": "markdown",
      "source": [
        "# **1) Import the required libraries**."
      ],
      "metadata": {
        "id": "OQW5qqEO_BEN"
      }
    },
    {
      "cell_type": "code",
      "source": [
        "import string\n",
        "import nltk\n",
        "nltk.download('stopwords')\n",
        "nltk.download('punkt')\n",
        "import pandas as pd\n",
        "import numpy as np\n",
        "import matplotlib.pyplot as plt\n",
        "import seaborn as sns\n",
        "\n",
        "from sklearn.model_selection import train_test_split\n",
        "from sklearn.naive_bayes import GaussianNB\n",
        "from sklearn.metrics import accuracy_score\n",
        "from sklearn.preprocessing import LabelEncoder\n"
      ],
      "metadata": {
        "colab": {
          "base_uri": "https://localhost:8080/"
        },
        "id": "rsPBPGHCuvk9",
        "outputId": "79049943-d2b6-4451-e1ab-0d7bf67e331e"
      },
      "execution_count": 22,
      "outputs": [
        {
          "output_type": "stream",
          "name": "stderr",
          "text": [
            "[nltk_data] Downloading package stopwords to /root/nltk_data...\n",
            "[nltk_data]   Package stopwords is already up-to-date!\n",
            "[nltk_data] Downloading package punkt to /root/nltk_data...\n",
            "[nltk_data]   Package punkt is already up-to-date!\n"
          ]
        }
      ]
    },
    {
      "cell_type": "markdown",
      "source": [
        "# **2) Reading the data file, then splitting the data into features and labels. After creating a dataframe, the data from each column is saved into corresponding \"messages\" and \"labels\" variables.**"
      ],
      "metadata": {
        "id": "twf1UGhY_Sqm"
      }
    },
    {
      "cell_type": "code",
      "source": [
        "datapath= '/content/sample_data/2cls_spam_text_cls (1).csv'\n",
        "df= pd.read_csv(datapath)\n",
        "messages= df['Message'].values.tolist()\n",
        "labels= df['Category'].values.tolist()\n",
        "df.head()"
      ],
      "metadata": {
        "colab": {
          "base_uri": "https://localhost:8080/",
          "height": 206
        },
        "id": "eP9Bdo86vqVD",
        "outputId": "6c554b87-2690-4969-cb47-2547d8289c6b"
      },
      "execution_count": 5,
      "outputs": [
        {
          "output_type": "execute_result",
          "data": {
            "text/plain": [
              "  Category                                            Message\n",
              "0      ham  Go until jurong point, crazy.. Available only ...\n",
              "1      ham                      Ok lar... Joking wif u oni...\n",
              "2     spam  Free entry in 2 a wkly comp to win FA Cup fina...\n",
              "3      ham  U dun say so early hor... U c already then say...\n",
              "4      ham  Nah I don't think he goes to usf, he lives aro..."
            ],
            "text/html": [
              "\n",
              "  <div id=\"df-52c85e4b-5714-4c47-be40-f0285b5c2099\" class=\"colab-df-container\">\n",
              "    <div>\n",
              "<style scoped>\n",
              "    .dataframe tbody tr th:only-of-type {\n",
              "        vertical-align: middle;\n",
              "    }\n",
              "\n",
              "    .dataframe tbody tr th {\n",
              "        vertical-align: top;\n",
              "    }\n",
              "\n",
              "    .dataframe thead th {\n",
              "        text-align: right;\n",
              "    }\n",
              "</style>\n",
              "<table border=\"1\" class=\"dataframe\">\n",
              "  <thead>\n",
              "    <tr style=\"text-align: right;\">\n",
              "      <th></th>\n",
              "      <th>Category</th>\n",
              "      <th>Message</th>\n",
              "    </tr>\n",
              "  </thead>\n",
              "  <tbody>\n",
              "    <tr>\n",
              "      <th>0</th>\n",
              "      <td>ham</td>\n",
              "      <td>Go until jurong point, crazy.. Available only ...</td>\n",
              "    </tr>\n",
              "    <tr>\n",
              "      <th>1</th>\n",
              "      <td>ham</td>\n",
              "      <td>Ok lar... Joking wif u oni...</td>\n",
              "    </tr>\n",
              "    <tr>\n",
              "      <th>2</th>\n",
              "      <td>spam</td>\n",
              "      <td>Free entry in 2 a wkly comp to win FA Cup fina...</td>\n",
              "    </tr>\n",
              "    <tr>\n",
              "      <th>3</th>\n",
              "      <td>ham</td>\n",
              "      <td>U dun say so early hor... U c already then say...</td>\n",
              "    </tr>\n",
              "    <tr>\n",
              "      <th>4</th>\n",
              "      <td>ham</td>\n",
              "      <td>Nah I don't think he goes to usf, he lives aro...</td>\n",
              "    </tr>\n",
              "  </tbody>\n",
              "</table>\n",
              "</div>\n",
              "    <div class=\"colab-df-buttons\">\n",
              "\n",
              "  <div class=\"colab-df-container\">\n",
              "    <button class=\"colab-df-convert\" onclick=\"convertToInteractive('df-52c85e4b-5714-4c47-be40-f0285b5c2099')\"\n",
              "            title=\"Convert this dataframe to an interactive table.\"\n",
              "            style=\"display:none;\">\n",
              "\n",
              "  <svg xmlns=\"http://www.w3.org/2000/svg\" height=\"24px\" viewBox=\"0 -960 960 960\">\n",
              "    <path d=\"M120-120v-720h720v720H120Zm60-500h600v-160H180v160Zm220 220h160v-160H400v160Zm0 220h160v-160H400v160ZM180-400h160v-160H180v160Zm440 0h160v-160H620v160ZM180-180h160v-160H180v160Zm440 0h160v-160H620v160Z\"/>\n",
              "  </svg>\n",
              "    </button>\n",
              "\n",
              "  <style>\n",
              "    .colab-df-container {\n",
              "      display:flex;\n",
              "      gap: 12px;\n",
              "    }\n",
              "\n",
              "    .colab-df-convert {\n",
              "      background-color: #E8F0FE;\n",
              "      border: none;\n",
              "      border-radius: 50%;\n",
              "      cursor: pointer;\n",
              "      display: none;\n",
              "      fill: #1967D2;\n",
              "      height: 32px;\n",
              "      padding: 0 0 0 0;\n",
              "      width: 32px;\n",
              "    }\n",
              "\n",
              "    .colab-df-convert:hover {\n",
              "      background-color: #E2EBFA;\n",
              "      box-shadow: 0px 1px 2px rgba(60, 64, 67, 0.3), 0px 1px 3px 1px rgba(60, 64, 67, 0.15);\n",
              "      fill: #174EA6;\n",
              "    }\n",
              "\n",
              "    .colab-df-buttons div {\n",
              "      margin-bottom: 4px;\n",
              "    }\n",
              "\n",
              "    [theme=dark] .colab-df-convert {\n",
              "      background-color: #3B4455;\n",
              "      fill: #D2E3FC;\n",
              "    }\n",
              "\n",
              "    [theme=dark] .colab-df-convert:hover {\n",
              "      background-color: #434B5C;\n",
              "      box-shadow: 0px 1px 3px 1px rgba(0, 0, 0, 0.15);\n",
              "      filter: drop-shadow(0px 1px 2px rgba(0, 0, 0, 0.3));\n",
              "      fill: #FFFFFF;\n",
              "    }\n",
              "  </style>\n",
              "\n",
              "    <script>\n",
              "      const buttonEl =\n",
              "        document.querySelector('#df-52c85e4b-5714-4c47-be40-f0285b5c2099 button.colab-df-convert');\n",
              "      buttonEl.style.display =\n",
              "        google.colab.kernel.accessAllowed ? 'block' : 'none';\n",
              "\n",
              "      async function convertToInteractive(key) {\n",
              "        const element = document.querySelector('#df-52c85e4b-5714-4c47-be40-f0285b5c2099');\n",
              "        const dataTable =\n",
              "          await google.colab.kernel.invokeFunction('convertToInteractive',\n",
              "                                                    [key], {});\n",
              "        if (!dataTable) return;\n",
              "\n",
              "        const docLinkHtml = 'Like what you see? Visit the ' +\n",
              "          '<a target=\"_blank\" href=https://colab.research.google.com/notebooks/data_table.ipynb>data table notebook</a>'\n",
              "          + ' to learn more about interactive tables.';\n",
              "        element.innerHTML = '';\n",
              "        dataTable['output_type'] = 'display_data';\n",
              "        await google.colab.output.renderOutput(dataTable, element);\n",
              "        const docLink = document.createElement('div');\n",
              "        docLink.innerHTML = docLinkHtml;\n",
              "        element.appendChild(docLink);\n",
              "      }\n",
              "    </script>\n",
              "  </div>\n",
              "\n",
              "\n",
              "<div id=\"df-91962029-5738-4312-adef-348935770de4\">\n",
              "  <button class=\"colab-df-quickchart\" onclick=\"quickchart('df-91962029-5738-4312-adef-348935770de4')\"\n",
              "            title=\"Suggest charts\"\n",
              "            style=\"display:none;\">\n",
              "\n",
              "<svg xmlns=\"http://www.w3.org/2000/svg\" height=\"24px\"viewBox=\"0 0 24 24\"\n",
              "     width=\"24px\">\n",
              "    <g>\n",
              "        <path d=\"M19 3H5c-1.1 0-2 .9-2 2v14c0 1.1.9 2 2 2h14c1.1 0 2-.9 2-2V5c0-1.1-.9-2-2-2zM9 17H7v-7h2v7zm4 0h-2V7h2v10zm4 0h-2v-4h2v4z\"/>\n",
              "    </g>\n",
              "</svg>\n",
              "  </button>\n",
              "\n",
              "<style>\n",
              "  .colab-df-quickchart {\n",
              "      --bg-color: #E8F0FE;\n",
              "      --fill-color: #1967D2;\n",
              "      --hover-bg-color: #E2EBFA;\n",
              "      --hover-fill-color: #174EA6;\n",
              "      --disabled-fill-color: #AAA;\n",
              "      --disabled-bg-color: #DDD;\n",
              "  }\n",
              "\n",
              "  [theme=dark] .colab-df-quickchart {\n",
              "      --bg-color: #3B4455;\n",
              "      --fill-color: #D2E3FC;\n",
              "      --hover-bg-color: #434B5C;\n",
              "      --hover-fill-color: #FFFFFF;\n",
              "      --disabled-bg-color: #3B4455;\n",
              "      --disabled-fill-color: #666;\n",
              "  }\n",
              "\n",
              "  .colab-df-quickchart {\n",
              "    background-color: var(--bg-color);\n",
              "    border: none;\n",
              "    border-radius: 50%;\n",
              "    cursor: pointer;\n",
              "    display: none;\n",
              "    fill: var(--fill-color);\n",
              "    height: 32px;\n",
              "    padding: 0;\n",
              "    width: 32px;\n",
              "  }\n",
              "\n",
              "  .colab-df-quickchart:hover {\n",
              "    background-color: var(--hover-bg-color);\n",
              "    box-shadow: 0 1px 2px rgba(60, 64, 67, 0.3), 0 1px 3px 1px rgba(60, 64, 67, 0.15);\n",
              "    fill: var(--button-hover-fill-color);\n",
              "  }\n",
              "\n",
              "  .colab-df-quickchart-complete:disabled,\n",
              "  .colab-df-quickchart-complete:disabled:hover {\n",
              "    background-color: var(--disabled-bg-color);\n",
              "    fill: var(--disabled-fill-color);\n",
              "    box-shadow: none;\n",
              "  }\n",
              "\n",
              "  .colab-df-spinner {\n",
              "    border: 2px solid var(--fill-color);\n",
              "    border-color: transparent;\n",
              "    border-bottom-color: var(--fill-color);\n",
              "    animation:\n",
              "      spin 1s steps(1) infinite;\n",
              "  }\n",
              "\n",
              "  @keyframes spin {\n",
              "    0% {\n",
              "      border-color: transparent;\n",
              "      border-bottom-color: var(--fill-color);\n",
              "      border-left-color: var(--fill-color);\n",
              "    }\n",
              "    20% {\n",
              "      border-color: transparent;\n",
              "      border-left-color: var(--fill-color);\n",
              "      border-top-color: var(--fill-color);\n",
              "    }\n",
              "    30% {\n",
              "      border-color: transparent;\n",
              "      border-left-color: var(--fill-color);\n",
              "      border-top-color: var(--fill-color);\n",
              "      border-right-color: var(--fill-color);\n",
              "    }\n",
              "    40% {\n",
              "      border-color: transparent;\n",
              "      border-right-color: var(--fill-color);\n",
              "      border-top-color: var(--fill-color);\n",
              "    }\n",
              "    60% {\n",
              "      border-color: transparent;\n",
              "      border-right-color: var(--fill-color);\n",
              "    }\n",
              "    80% {\n",
              "      border-color: transparent;\n",
              "      border-right-color: var(--fill-color);\n",
              "      border-bottom-color: var(--fill-color);\n",
              "    }\n",
              "    90% {\n",
              "      border-color: transparent;\n",
              "      border-bottom-color: var(--fill-color);\n",
              "    }\n",
              "  }\n",
              "</style>\n",
              "\n",
              "  <script>\n",
              "    async function quickchart(key) {\n",
              "      const quickchartButtonEl =\n",
              "        document.querySelector('#' + key + ' button');\n",
              "      quickchartButtonEl.disabled = true;  // To prevent multiple clicks.\n",
              "      quickchartButtonEl.classList.add('colab-df-spinner');\n",
              "      try {\n",
              "        const charts = await google.colab.kernel.invokeFunction(\n",
              "            'suggestCharts', [key], {});\n",
              "      } catch (error) {\n",
              "        console.error('Error during call to suggestCharts:', error);\n",
              "      }\n",
              "      quickchartButtonEl.classList.remove('colab-df-spinner');\n",
              "      quickchartButtonEl.classList.add('colab-df-quickchart-complete');\n",
              "    }\n",
              "    (() => {\n",
              "      let quickchartButtonEl =\n",
              "        document.querySelector('#df-91962029-5738-4312-adef-348935770de4 button');\n",
              "      quickchartButtonEl.style.display =\n",
              "        google.colab.kernel.accessAllowed ? 'block' : 'none';\n",
              "    })();\n",
              "  </script>\n",
              "</div>\n",
              "\n",
              "    </div>\n",
              "  </div>\n"
            ],
            "application/vnd.google.colaboratory.intrinsic+json": {
              "type": "dataframe",
              "variable_name": "df",
              "summary": "{\n  \"name\": \"df\",\n  \"rows\": 5572,\n  \"fields\": [\n    {\n      \"column\": \"Category\",\n      \"properties\": {\n        \"dtype\": \"category\",\n        \"num_unique_values\": 2,\n        \"samples\": [\n          \"spam\",\n          \"ham\"\n        ],\n        \"semantic_type\": \"\",\n        \"description\": \"\"\n      }\n    },\n    {\n      \"column\": \"Message\",\n      \"properties\": {\n        \"dtype\": \"string\",\n        \"num_unique_values\": 5157,\n        \"samples\": [\n          \"Also sir, i sent you an email about how to log into the usc payment portal. I.ll send you another message that should explain how things are back home. Have a great weekend.\",\n          \"Are you free now?can i call now?\"\n        ],\n        \"semantic_type\": \"\",\n        \"description\": \"\"\n      }\n    }\n  ]\n}"
            }
          },
          "metadata": {},
          "execution_count": 5
        }
      ]
    },
    {
      "cell_type": "markdown",
      "source": [
        "# **3) Preprocessing Data**"
      ],
      "metadata": {
        "id": "9jCP2t5hCc8c"
      }
    },
    {
      "cell_type": "code",
      "source": [
        "def lowercase(text):\n",
        "  return text.lower()\n",
        "def remove_punctuation(text):\n",
        "  return text.translate(str.maketrans('', '', string.punctuation))\n",
        "def remove_stopwords(tokens):\n",
        "  stop_words= set(nltk.corpus.stopwords.words('english'))\n",
        "  return [token for token in tokens if token not in stop_words]\n",
        "def stemming(tokens):\n",
        "  stemmer= nltk.stem.PorterStemmer()\n",
        "  return [stemmer.stem(token) for token in tokens]\n",
        "def tokenize(text):\n",
        "  return nltk.word_tokenize(text)\n",
        "def preprocess_text(text):\n",
        "  text= lowercase(text)\n",
        "  text= remove_punctuation(text)\n",
        "  tokens= tokenize(text)\n",
        "  tokens= remove_stopwords(tokens)\n",
        "  tokens= stemming(tokens)\n",
        "  return ' '.join(tokens)\n",
        "def preprocess_data(messages):\n",
        "  preprocessed_messages= []\n",
        "  for message in messages:\n",
        "    preprocessed_message= preprocess_text(message)\n",
        "    preprocessed_messages.append(preprocessed_message)\n",
        "  return preprocessed_messages\n",
        "preprocessed_messages= [preprocess_text(message) for message in messages]\n"
      ],
      "metadata": {
        "id": "FB5T30xDwVaJ"
      },
      "execution_count": 35,
      "outputs": []
    },
    {
      "cell_type": "markdown",
      "source": [
        "# 4) **Create a dictionary, containing all words or characters appear in all Messages after preprocessing and are not duplicated.**"
      ],
      "metadata": {
        "id": "ezq1TQlfC8mK"
      }
    },
    {
      "cell_type": "code",
      "source": [
        "def create_dictionary(messages):\n",
        "  dictionary= {}\n",
        "  for message in messages:\n",
        "    tokens= message.split()\n",
        "    for token in tokens:\n",
        "      if token in dictionary:\n",
        "        dictionary[token]+= 1\n",
        "      else:\n",
        "        dictionary[token]= 1\n",
        "  return dictionary\n",
        "dictionary= create_dictionary(preprocessed_messages)\n"
      ],
      "metadata": {
        "id": "xom9E-JbzfXj"
      },
      "execution_count": 36,
      "outputs": []
    },
    {
      "cell_type": "markdown",
      "source": [
        "# **5) Create features that represent the information (words) of messages. One simple method is to rely on the frequency of occurrence. For each message, the representation vector will have a size equal to the number of words contained in the dictionary.**"
      ],
      "metadata": {
        "id": "JjrnEZBaEqKW"
      }
    },
    {
      "cell_type": "code",
      "source": [
        "from tkinter.constants import X\n",
        "def create_features(tokens, dicrionary):\n",
        "  features= np.zeros(len(dictionary))\n",
        "  for token in tokens:\n",
        "    if token in dictionary:\n",
        "      features[list(dictionary.keys()).index(token)]+= 1\n",
        "  return features\n",
        "X= []\n",
        "for message in preprocessed_messages:\n",
        "  tokens= message.split()\n",
        "  features= create_features(tokens, dictionary)\n",
        "  X.append(features)\n",
        "X= np.array(X)\n",
        "y= np.array(labels)"
      ],
      "metadata": {
        "id": "4SfmPxBw0MeW"
      },
      "execution_count": 37,
      "outputs": []
    },
    {
      "cell_type": "markdown",
      "source": [
        "# **6) Preprocessing label**"
      ],
      "metadata": {
        "id": "EbmaFXxKFW_L"
      }
    },
    {
      "cell_type": "code",
      "source": [
        "le= LabelEncoder()\n",
        "y= le.fit_transform(y)\n"
      ],
      "metadata": {
        "id": "Fxn_5Ts10u2Y"
      },
      "execution_count": 38,
      "outputs": []
    },
    {
      "cell_type": "markdown",
      "source": [
        "# **7) Splitting the dataset into training, validation, and testing sets.**"
      ],
      "metadata": {
        "id": "Ad7margTFjrv"
      }
    },
    {
      "cell_type": "code",
      "source": [
        "VAL_SIZE= 0.3\n",
        "TEST_SIZE= 0.1\n",
        "SEED= 0\n",
        "X_train, X_val, y_train, y_val= train_test_split(X, y, test_size= VAL_SIZE, random_state= SEED, shuffle= True)\n",
        "X_train, X_test, y_train, y_test= train_test_split(X_train, y_train, test_size= TEST_SIZE, random_state= SEED, shuffle= True)"
      ],
      "metadata": {
        "id": "jsXYzjP11FD6"
      },
      "execution_count": 62,
      "outputs": []
    },
    {
      "cell_type": "code",
      "source": [
        "model = GaussianNB ()"
      ],
      "metadata": {
        "id": "RrZ24ye71zh5"
      },
      "execution_count": 66,
      "outputs": []
    },
    {
      "cell_type": "code",
      "source": [
        "print('start')\n",
        "model= model.fit(X_train, y_train)\n",
        "print('completed')"
      ],
      "metadata": {
        "colab": {
          "base_uri": "https://localhost:8080/"
        },
        "id": "E0NUxsIR1_Pc",
        "outputId": "6677008e-0ca7-43c8-8a14-1bd1180827cd"
      },
      "execution_count": 67,
      "outputs": [
        {
          "output_type": "stream",
          "name": "stdout",
          "text": [
            "start\n",
            "completed\n"
          ]
        }
      ]
    },
    {
      "cell_type": "markdown",
      "source": [
        "# **8) Evaluating the model**"
      ],
      "metadata": {
        "id": "skOkRp9uGoqy"
      }
    },
    {
      "cell_type": "code",
      "source": [
        "y_val_pred= model.predict(X_val)\n",
        "y_test_pred= model.predict(X_test)\n",
        "val_accuracy= accuracy_score(y_val, y_val_pred)\n",
        "test_accuracy= accuracy_score(y_test, y_test_pred)\n",
        "print('Validation Accuracy:', val_accuracy)\n",
        "print('Test Accuracy:', test_accuracy)"
      ],
      "metadata": {
        "colab": {
          "base_uri": "https://localhost:8080/"
        },
        "id": "daCoOHQA2OAy",
        "outputId": "72332e1d-3772-470b-d83e-3b4f3f615ecb"
      },
      "execution_count": 68,
      "outputs": [
        {
          "output_type": "stream",
          "name": "stdout",
          "text": [
            "Validation Accuracy: 0.8809808612440191\n",
            "Test Accuracy: 0.8487179487179487\n"
          ]
        }
      ]
    },
    {
      "cell_type": "markdown",
      "source": [
        "# 9) Testing"
      ],
      "metadata": {
        "id": "J2vrpsP7Gt8v"
      }
    },
    {
      "cell_type": "code",
      "source": [
        "def predict(text, model, dictionary):\n",
        "  processed_text= preprocess_text(text)\n",
        "  features= create_features(text, dictionary)\n",
        "  features= np.array(features).reshape(1, -1)\n",
        "  prediction= model.predict(features)\n",
        "  prediction_cls= le.inverse_transform(prediction)\n",
        "  return prediction_cls\n",
        "test_one= \"My name is Le tu Minh Kien. at present, I am undergraduate in International University\"\n",
        "test_two= \")U*&$)(*@)(*)(&*^#@)\"\n",
        "prediction_cls_one= predict(test_one, model, dictionary)\n",
        "prediction_cls_two= predict(test_two, model, dictionary)\n",
        "print(prediction_cls_one)\n",
        "print(prediction_cls_two)\n",
        "\n"
      ],
      "metadata": {
        "colab": {
          "base_uri": "https://localhost:8080/"
        },
        "id": "VKRjlH7e2rwa",
        "outputId": "a931446c-c15f-4eaf-8984-f43e35250b3e"
      },
      "execution_count": 69,
      "outputs": [
        {
          "output_type": "stream",
          "name": "stdout",
          "text": [
            "['ham']\n",
            "['spam']\n"
          ]
        }
      ]
    },
    {
      "cell_type": "code",
      "source": [],
      "metadata": {
        "id": "fZdPMTNX-mxm"
      },
      "execution_count": null,
      "outputs": []
    }
  ]
}